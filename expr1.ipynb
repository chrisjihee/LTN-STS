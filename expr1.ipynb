{
 "cells": [
  {
   "cell_type": "markdown",
   "metadata": {},
   "source": [
    "## Env check"
   ]
  },
  {
   "cell_type": "code",
   "execution_count": null,
   "metadata": {
    "pycharm": {
     "name": "#%%\n"
    }
   },
   "outputs": [],
   "source": [
    "import sys\n",
    "\n",
    "from main import lang_models, TrainerForClassification, TrainerForRegression\n",
    "\n",
    "eid = 1\n",
    "python = sys.executable\n",
    "print(f\"* Python Path: {python}\")\n",
    "print(f\"* Library Version:\")\n",
    "!echo '  -' `$python -m pip list | grep -w torch`\n",
    "!echo '  -' `$python -m pip list | grep -w LTNtorch`\n",
    "!echo '  -' `$python -m pip list | grep -w transformers`\n",
    "print(f\"* Experiment ID: {eid}\")\n",
    "print(f\"* Pretrained Model: {lang_models[eid]}\")"
   ]
  },
  {
   "cell_type": "markdown",
   "source": [
    "## Regression using KoBERT"
   ],
   "metadata": {
    "collapsed": false
   }
  },
  {
   "cell_type": "markdown",
   "source": [
    "### learning_rate=1e-5"
   ],
   "metadata": {
    "collapsed": false
   }
  },
  {
   "cell_type": "code",
   "execution_count": null,
   "outputs": [],
   "source": [
    "!date +\"[%Y-%m-%d %H:%I:%S] [BEGIN] TrainerForRegression.define().train()\"\n",
    "TrainerForRegression(gpu_id=eid, lang_model=lang_models[eid], max_epoch=10,\n",
    "                     learning_rate=1e-5, max_seq_length=512).define().train()\n",
    "!date +\"[%Y-%m-%d %H:%I:%S] [END] TrainerForRegression.define().train()\""
   ],
   "metadata": {
    "collapsed": false,
    "pycharm": {
     "name": "#%%\n"
    }
   }
  },
  {
   "cell_type": "markdown",
   "source": [
    "### learning_rate=2e-5"
   ],
   "metadata": {
    "collapsed": false
   }
  },
  {
   "cell_type": "code",
   "execution_count": null,
   "outputs": [],
   "source": [
    "!date +\"[%Y-%m-%d %H:%I:%S] [BEGIN] TrainerForRegression.define().train()\"\n",
    "TrainerForRegression(gpu_id=eid, lang_model=lang_models[eid], max_epoch=10,\n",
    "                     learning_rate=2e-5, max_seq_length=512).define().train()\n",
    "!date +\"[%Y-%m-%d %H:%I:%S] [END] TrainerForRegression.define().train()\""
   ],
   "metadata": {
    "collapsed": false,
    "pycharm": {
     "name": "#%%\n"
    }
   }
  },
  {
   "cell_type": "markdown",
   "metadata": {},
   "source": [
    "## Classification using KoBERT"
   ]
  },
  {
   "cell_type": "markdown",
   "source": [
    "### learning_rate=1e-5"
   ],
   "metadata": {
    "collapsed": false
   }
  },
  {
   "cell_type": "code",
   "execution_count": null,
   "metadata": {},
   "outputs": [],
   "source": [
    "!date +\"[%Y-%m-%d %H:%I:%S] [BEGIN] TrainerForClassification.define().train()\"\n",
    "TrainerForClassification(gpu_id=eid, lang_model=lang_models[eid], max_epoch=10,\n",
    "                         learning_rate=1e-5, max_seq_length=512).define().train()\n",
    "!date +\"[%Y-%m-%d %H:%I:%S] [END] TrainerForClassification.define().train()\""
   ]
  },
  {
   "cell_type": "markdown",
   "source": [
    "### learning_rate=2e-5"
   ],
   "metadata": {
    "collapsed": false
   }
  },
  {
   "cell_type": "code",
   "execution_count": null,
   "outputs": [],
   "source": [
    "!date +\"[%Y-%m-%d %H:%I:%S] [BEGIN] TrainerForClassification.define().train()\"\n",
    "TrainerForClassification(gpu_id=eid, lang_model=lang_models[eid], max_epoch=10,\n",
    "                         learning_rate=2e-5, max_seq_length=512).define().train()\n",
    "!date +\"[%Y-%m-%d %H:%I:%S] [END] TrainerForClassification.define().train()\""
   ],
   "metadata": {
    "collapsed": false,
    "pycharm": {
     "name": "#%%\n"
    }
   }
  }
 ],
 "metadata": {
  "kernelspec": {
   "display_name": "jupyter LTN",
   "language": "python",
   "name": "ltn"
  },
  "language_info": {
   "codemirror_mode": {
    "name": "ipython",
    "version": 3
   },
   "file_extension": ".py",
   "mimetype": "text/x-python",
   "name": "python",
   "nbconvert_exporter": "python",
   "pygments_lexer": "ipython3",
   "version": "3.8.12"
  }
 },
 "nbformat": 4,
 "nbformat_minor": 1
}